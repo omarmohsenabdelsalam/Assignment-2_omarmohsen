{
 "cells": [
  {
   "cell_type": "markdown",
   "id": "49f792ed",
   "metadata": {},
   "source": [
    "# Rock, Paper, Scissor Task"
   ]
  },
  {
   "cell_type": "code",
   "execution_count": 12,
   "id": "03352f59",
   "metadata": {},
   "outputs": [
    {
     "name": "stdout",
     "output_type": "stream",
     "text": [
      "Choose from rock, paper or scissors: rock\n",
      "you chose: rock, while the computer chose: scissor\n",
      "You Win\n"
     ]
    }
   ],
   "source": [
    "import random\n",
    "userchoice = input (\"Choose from rock, paper or scissors: \")\n",
    "ComputerPoss =  [\"rock\", \"paper\", \"scissor\"]\n",
    "computerchoice = random.choice(ComputerPoss)\n",
    "if computerchoice == userchoice:\n",
    "    Result = \"Draw\"\n",
    "    print (f\"you chose: {userchoice}, while the computer chose: {computerchoice}\" )\n",
    "    print (Result)\n",
    "elif computerchoice == \"rock\" and userchoice == \"paper\":\n",
    "    Result = \"You Win\"\n",
    "    print (f\"you chose: {userchoice}, while the computer chose: {computerchoice}\" )\n",
    "    print (Result)\n",
    "elif computerchoice == \"rock\" and userchoice == \"scissor\":\n",
    "    Result = \"You Lose\"\n",
    "    print (f\"you chose: {userchoice}, while the computer chose: {computerchoice}\" )\n",
    "    print (Result)\n",
    "elif computerchoice == \"paper\" and userchoice == \"rock\":\n",
    "    Result = \"You Lose\"\n",
    "    print (f\"you chose: {userchoice}, while the computer chose: {computerchoice}\" )\n",
    "    print (Result)\n",
    "elif computerchoice == \"paper\" and userchoice == \"scissor\":\n",
    "    Result = \"You Win\"\n",
    "    print (f\"you chose: {userchoice}, while the computer chose: {computerchoice}\" )\n",
    "    print (Result)\n",
    "elif computerchoice == \"scissor\" and userchoice == \"rock\":\n",
    "    Result = \"You Win\"\n",
    "    print (f\"you chose: {userchoice}, while the computer chose: {computerchoice}\" )\n",
    "    print (Result)\n",
    "elif computerchoice == \"scissor\" and userchoice == \"paper\":\n",
    "    Result = \"You Lose\"\n",
    "    print (f\"you chose: {userchoice}, while the computer chose: {computerchoice}\" )\n",
    "    print (Result)\n",
    "else:\n",
    "    print (\"invalid input, please try again\")\n"
   ]
  },
  {
   "cell_type": "markdown",
   "id": "57d9e067",
   "metadata": {},
   "source": [
    "# Calculator Task"
   ]
  },
  {
   "cell_type": "code",
   "execution_count": 10,
   "id": "7db5cf1b",
   "metadata": {},
   "outputs": [
    {
     "name": "stdout",
     "output_type": "stream",
     "text": [
      "please enter the operation symbol:\n",
      " + for addition\n",
      " - for Subtraction \n",
      " * for multiplication \n",
      " / for division \n",
      " ! for factorial \n",
      " even or odd to check if the number is even or odd \n",
      " fib to get Fibonacci \n",
      " fib\n",
      "please enter the number to calculate its Fibonacci 10\n",
      " The Fibonacci of 10 is:  55\n"
     ]
    }
   ],
   "source": [
    "op = input (\"please enter the operation symbol:\\n + for addition\\n - for Subtraction \\n * for multiplication \\n / for division \\n ! for factorial \\n even or odd to check if the number is even or odd \\n fib to get Fibonacci \\n \")\n",
    "if op == \"+\" or op == \"-\" or op == \"*\" or op == \"/\":\n",
    "    n1 = float(input(\"please enter the first number: \"))\n",
    "    n2 = float(input(\"please enter the second number: \"))\n",
    "    if op == \"+\":\n",
    "        result = n1 + n2\n",
    "        print (f\"The addition is equal to, {result}\")\n",
    "    elif op == \"-\":\n",
    "        result = n1 - n2\n",
    "        print (f\"The subtration is equal to, {result}\")\n",
    "    elif op == \"*\":\n",
    "        result = n1 * n2\n",
    "        print (f\"The multiplication is equal to, {result}\")\n",
    "    elif op == \"/\":\n",
    "        result = n1 / n2\n",
    "        print (f\"The division is equal to, {result}\")\n",
    "elif op == \"!\":\n",
    "    nf = input(\"please enter the number to get its factorial: \")\n",
    "    def factorial (nf):\n",
    "        if nf == 0 or nf == 1:\n",
    "            return 1\n",
    "        else: \n",
    "            return nf*factorial(nf-1)   \n",
    "    print(\"Factorail of \",nf , \" is : \",factorial(int(nf)))\n",
    "elif op == \"even\" or op == \"odd\":\n",
    "        n = float(input(\"Enter a number: \"))\n",
    "        if n%2 == 0:\n",
    "            print (f\"The number you have entered {n} is an even number\")\n",
    "        else:\n",
    "            print (f\"The number you have entered {n} is an odd number\")\n",
    "elif op == \"fib\":\n",
    "    nfib = input(\"please enter the number to calculate its Fibonacci \")\n",
    "    def fibonacci(nfib):\n",
    "        if nfib==0:\n",
    "            return 0\n",
    "        elif nfib == 1:\n",
    "            return 1\n",
    "        else:\n",
    "            return fibonacci(nfib-2)+ fibonacci(nfib-1)\n",
    "    print (\" The Fibonacci of\", nfib, \"is: \", fibonacci(int(nfib)))\n",
    "\n",
    "else:\n",
    "    print (\"Invalid input, please try again\")"
   ]
  },
  {
   "cell_type": "code",
   "execution_count": null,
   "id": "356e5bfc",
   "metadata": {},
   "outputs": [],
   "source": []
  },
  {
   "cell_type": "code",
   "execution_count": null,
   "id": "480ea64e",
   "metadata": {},
   "outputs": [],
   "source": []
  },
  {
   "cell_type": "code",
   "execution_count": null,
   "id": "fff0e754",
   "metadata": {},
   "outputs": [],
   "source": []
  }
 ],
 "metadata": {
  "kernelspec": {
   "display_name": "Python 3 (ipykernel)",
   "language": "python",
   "name": "python3"
  },
  "language_info": {
   "codemirror_mode": {
    "name": "ipython",
    "version": 3
   },
   "file_extension": ".py",
   "mimetype": "text/x-python",
   "name": "python",
   "nbconvert_exporter": "python",
   "pygments_lexer": "ipython3",
   "version": "3.10.9"
  }
 },
 "nbformat": 4,
 "nbformat_minor": 5
}
